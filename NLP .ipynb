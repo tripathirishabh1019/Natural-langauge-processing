{
 "cells": [
  {
   "cell_type": "markdown",
   "id": "4d3d6e1a",
   "metadata": {},
   "source": [
    "# 1. Print an f-string that displays NLP stands for Natural Language Processing using the variables provided."
   ]
  },
  {
   "cell_type": "code",
   "execution_count": 1,
   "id": "3157579a",
   "metadata": {},
   "outputs": [],
   "source": [
    "X = \"Natural language processing\""
   ]
  },
  {
   "cell_type": "code",
   "execution_count": 2,
   "id": "6ca7a019",
   "metadata": {},
   "outputs": [
    {
     "name": "stdout",
     "output_type": "stream",
     "text": [
      "NLP stands forNatural language processing\n"
     ]
    }
   ],
   "source": [
    "print(f'NLP stands for{X}')"
   ]
  },
  {
   "cell_type": "markdown",
   "id": "51ad5656",
   "metadata": {},
   "source": [
    "# 2. Create a file in the current working directory called contacts.txt by running the cell below."
   ]
  },
  {
   "cell_type": "code",
   "execution_count": 3,
   "id": "1e883de2",
   "metadata": {},
   "outputs": [
    {
     "name": "stdout",
     "output_type": "stream",
     "text": [
      "Overwriting Contacts.txt\n"
     ]
    }
   ],
   "source": [
    "%%writefile Contacts.txt\n",
    "Hi1 \n",
    "Hi2"
   ]
  },
  {
   "cell_type": "code",
   "execution_count": 4,
   "id": "6ad76452",
   "metadata": {},
   "outputs": [],
   "source": [
    "my_file= open('Contacts.txt')"
   ]
  },
  {
   "cell_type": "code",
   "execution_count": 5,
   "id": "23c5797a",
   "metadata": {},
   "outputs": [
    {
     "data": {
      "text/plain": [
       "'Hi1 \\nHi2\\n'"
      ]
     },
     "execution_count": 5,
     "metadata": {},
     "output_type": "execute_result"
    }
   ],
   "source": [
    "my_file.read()"
   ]
  },
  {
   "cell_type": "markdown",
   "id": "8c35371c",
   "metadata": {},
   "source": [
    "# 3. Open the file and use .read() to save the contents of the file to a string called fields. Make sure the file is closed at the end."
   ]
  },
  {
   "cell_type": "code",
   "execution_count": 6,
   "id": "84d3c5ab",
   "metadata": {},
   "outputs": [],
   "source": [
    "f =open('Contacts.txt')"
   ]
  },
  {
   "cell_type": "code",
   "execution_count": 7,
   "id": "86479423",
   "metadata": {},
   "outputs": [],
   "source": [
    "my_file=f.read()"
   ]
  },
  {
   "cell_type": "code",
   "execution_count": 8,
   "id": "a83842f8",
   "metadata": {},
   "outputs": [
    {
     "data": {
      "text/plain": [
       "'Hi1 \\nHi2\\n'"
      ]
     },
     "execution_count": 8,
     "metadata": {},
     "output_type": "execute_result"
    }
   ],
   "source": [
    "my_file"
   ]
  },
  {
   "cell_type": "code",
   "execution_count": 9,
   "id": "43744dc0",
   "metadata": {},
   "outputs": [],
   "source": [
    "f.close()"
   ]
  },
  {
   "cell_type": "markdown",
   "id": "98034fc3",
   "metadata": {},
   "source": [
    "# 4. Use PyPDF2 to open the file Business_Proposal.pdf. Extract the text of page 2."
   ]
  },
  {
   "cell_type": "code",
   "execution_count": 10,
   "id": "3402d4b7",
   "metadata": {},
   "outputs": [],
   "source": [
    "import PyPDF2"
   ]
  },
  {
   "cell_type": "code",
   "execution_count": 11,
   "id": "f322465d",
   "metadata": {},
   "outputs": [],
   "source": [
    "pdf_path=r'C:\\Users\\punee\\Downloads\\Business_Proposal.pdf'"
   ]
  },
  {
   "cell_type": "code",
   "execution_count": 12,
   "id": "95f0d859",
   "metadata": {},
   "outputs": [],
   "source": [
    "f = open(pdf_path, 'rb')"
   ]
  },
  {
   "cell_type": "code",
   "execution_count": 13,
   "id": "ae855f16",
   "metadata": {},
   "outputs": [],
   "source": [
    "pdf_reader = PyPDF2.PdfReader(f)"
   ]
  },
  {
   "cell_type": "code",
   "execution_count": 14,
   "id": "1476757b",
   "metadata": {},
   "outputs": [
    {
     "data": {
      "text/plain": [
       "2"
      ]
     },
     "execution_count": 14,
     "metadata": {},
     "output_type": "execute_result"
    }
   ],
   "source": [
    "len(pdf_reader.pages)"
   ]
  },
  {
   "cell_type": "code",
   "execution_count": 15,
   "id": "8dfcf7e2",
   "metadata": {},
   "outputs": [],
   "source": [
    "page_one = pdf_reader.pages[0]"
   ]
  },
  {
   "cell_type": "code",
   "execution_count": 16,
   "id": "55a9b68c",
   "metadata": {},
   "outputs": [],
   "source": [
    "page_one_text = page_one.extract_text()"
   ]
  },
  {
   "cell_type": "code",
   "execution_count": 17,
   "id": "28f25e2b",
   "metadata": {},
   "outputs": [
    {
     "data": {
      "text/plain": [
       "'Business Proposal  \\nThe Revolution is Coming  \\nLeverage agile frameworks to provide a robust synopsis for high level  \\noverviews. Iterative approaches to corporate strategy foster collaborative  \\nthinking to further the overall value proposition. Organically grow the  \\nholistic world view of disruptive innovation via workplace diversity and  \\nempowerment.  \\nBring to the table win -win survival strategies to ensure proactive  \\ndomination. At the end of the day, going forward, a new normal that has  \\nevolved from generation X is on the runway heading towards a streamlined  \\ncloud solution. User generated content in real -time will have multi ple \\ntouchpoints for offshoring.  \\nCapitalize on low hanging fruit to identify a ballpark value added activity to  \\nbeta test. Override the digital divide with additional clickthroughs from  \\nDevOps. Nanotechnology immersion along the information highway will  \\nclose the loop on focusing solely on the bottom line.  \\nPodcasting operational change management inside of workflows to  \\nestablish a framework. Taking seamless key performance indicators offline  \\nto maximise the long tail. Keeping your eye on the ball while perfo rming a  \\ndeep dive on the start -up mentality to derive convergence on crossplatform  \\nintegration.  \\nCollaboratively administrate empowered markets via plug -and-play \\nnetworks. Dynamically procrastinate B2C users after installed base  \\nbenefits. Dramatically visua lize customer directed convergence without  \\nrevolutionary ROI.  \\nEfficiently unleash cross -media information without cross -media value.  \\nQuickly maximize timely deliverables for real -time schemas. Dramatically  \\nmaintain clicks -and-mortar solutions without funct ional solutio ns. \\n  '"
      ]
     },
     "execution_count": 17,
     "metadata": {},
     "output_type": "execute_result"
    }
   ],
   "source": [
    "page_one_text"
   ]
  },
  {
   "cell_type": "code",
   "execution_count": 18,
   "id": "04495975",
   "metadata": {},
   "outputs": [],
   "source": [
    "f.close()"
   ]
  },
  {
   "cell_type": "code",
   "execution_count": null,
   "id": "006cf771",
   "metadata": {},
   "outputs": [],
   "source": []
  },
  {
   "cell_type": "markdown",
   "id": "34ef416f",
   "metadata": {},
   "source": [
    "# 5. Open the file contacts.txt in append mode. Add the text of page 2 from above to contacts.txt."
   ]
  },
  {
   "cell_type": "code",
   "execution_count": 19,
   "id": "1b3d0f9f",
   "metadata": {},
   "outputs": [],
   "source": [
    "f = open(pdf_path,'rb')\n"
   ]
  },
  {
   "cell_type": "code",
   "execution_count": 20,
   "id": "b35bb9de",
   "metadata": {},
   "outputs": [],
   "source": [
    "pdf_text=[]"
   ]
  },
  {
   "cell_type": "code",
   "execution_count": 21,
   "id": "d1be59d4",
   "metadata": {},
   "outputs": [],
   "source": [
    "pdf_reader =PyPDF2.PdfReader(f)"
   ]
  },
  {
   "cell_type": "code",
   "execution_count": 22,
   "id": "01c068bc",
   "metadata": {},
   "outputs": [],
   "source": [
    "for p in range(len(pdf_reader.pages)):\n",
    "    \n",
    "    page = pdf_reader.pages[p]\n",
    "    pdf_text.append(page.extract_text())\n",
    "    "
   ]
  },
  {
   "cell_type": "code",
   "execution_count": 23,
   "id": "a07207ac",
   "metadata": {},
   "outputs": [],
   "source": [
    "f.close()"
   ]
  },
  {
   "cell_type": "code",
   "execution_count": 24,
   "id": "2aefecb5",
   "metadata": {},
   "outputs": [
    {
     "data": {
      "text/plain": [
       "['Business Proposal  \\nThe Revolution is Coming  \\nLeverage agile frameworks to provide a robust synopsis for high level  \\noverviews. Iterative approaches to corporate strategy foster collaborative  \\nthinking to further the overall value proposition. Organically grow the  \\nholistic world view of disruptive innovation via workplace diversity and  \\nempowerment.  \\nBring to the table win -win survival strategies to ensure proactive  \\ndomination. At the end of the day, going forward, a new normal that has  \\nevolved from generation X is on the runway heading towards a streamlined  \\ncloud solution. User generated content in real -time will have multi ple \\ntouchpoints for offshoring.  \\nCapitalize on low hanging fruit to identify a ballpark value added activity to  \\nbeta test. Override the digital divide with additional clickthroughs from  \\nDevOps. Nanotechnology immersion along the information highway will  \\nclose the loop on focusing solely on the bottom line.  \\nPodcasting operational change management inside of workflows to  \\nestablish a framework. Taking seamless key performance indicators offline  \\nto maximise the long tail. Keeping your eye on the ball while perfo rming a  \\ndeep dive on the start -up mentality to derive convergence on crossplatform  \\nintegration.  \\nCollaboratively administrate empowered markets via plug -and-play \\nnetworks. Dynamically procrastinate B2C users after installed base  \\nbenefits. Dramatically visua lize customer directed convergence without  \\nrevolutionary ROI.  \\nEfficiently unleash cross -media information without cross -media value.  \\nQuickly maximize timely deliverables for real -time schemas. Dramatically  \\nmaintain clicks -and-mortar solutions without funct ional solutio ns. \\n  ',\n",
       " 'AUTHORS:  \\nAmy Baker, Finance Chair, x345, abaker@ourcompany.com  \\nChris Donaldson, Accounting Dir., x621, cdonaldson@ourcompany.com  \\nErin Freeman, Sr. VP, x879, efreeman@ourcompany.com  ']"
      ]
     },
     "execution_count": 24,
     "metadata": {},
     "output_type": "execute_result"
    }
   ],
   "source": [
    "pdf_text"
   ]
  },
  {
   "cell_type": "code",
   "execution_count": 25,
   "id": "e69ff096",
   "metadata": {},
   "outputs": [
    {
     "data": {
      "text/plain": [
       "2"
      ]
     },
     "execution_count": 25,
     "metadata": {},
     "output_type": "execute_result"
    }
   ],
   "source": [
    "len(pdf_text)"
   ]
  },
  {
   "cell_type": "markdown",
   "id": "161170d6",
   "metadata": {},
   "source": [
    "# 6. Using the page_two_text variable created above, extract any email addresses that were contained in the file "
   ]
  },
  {
   "cell_type": "code",
   "execution_count": 26,
   "id": "2a363a43",
   "metadata": {},
   "outputs": [],
   "source": [
    "page_two_text=pdf_reader.pages[1]"
   ]
  },
  {
   "cell_type": "code",
   "execution_count": 27,
   "id": "aed0c4e4",
   "metadata": {},
   "outputs": [
    {
     "data": {
      "text/plain": [
       "<bound method PageObject.extract_text of {'/Type': '/Page', '/Parent': IndirectObject(2, 0, 1198395309584), '/Resources': {'/Font': {'/F3': IndirectObject(11, 0, 1198395309584)}, '/ExtGState': {'/GS7': IndirectObject(7, 0, 1198395309584), '/GS8': IndirectObject(8, 0, 1198395309584)}, '/ProcSet': ['/PDF', '/Text', '/ImageB', '/ImageC', '/ImageI']}, '/MediaBox': [0, 0, 612, 792], '/Contents': IndirectObject(14, 0, 1198395309584), '/Group': {'/Type': '/Group', '/S': '/Transparency', '/CS': '/DeviceRGB'}, '/Tabs': '/S', '/StructParents': 1}>"
      ]
     },
     "execution_count": 27,
     "metadata": {},
     "output_type": "execute_result"
    }
   ],
   "source": [
    "page_two_text.extract_text"
   ]
  },
  {
   "cell_type": "code",
   "execution_count": null,
   "id": "fea7d20a",
   "metadata": {},
   "outputs": [],
   "source": []
  }
 ],
 "metadata": {
  "kernelspec": {
   "display_name": "Python 3 (ipykernel)",
   "language": "python",
   "name": "python3"
  },
  "language_info": {
   "codemirror_mode": {
    "name": "ipython",
    "version": 3
   },
   "file_extension": ".py",
   "mimetype": "text/x-python",
   "name": "python",
   "nbconvert_exporter": "python",
   "pygments_lexer": "ipython3",
   "version": "3.11.5"
  }
 },
 "nbformat": 4,
 "nbformat_minor": 5
}
