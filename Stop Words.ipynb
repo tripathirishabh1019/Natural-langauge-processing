{
 "cells": [
  {
   "cell_type": "markdown",
   "id": "427dc538",
   "metadata": {},
   "source": [
    "# STOP WORDS"
   ]
  },
  {
   "cell_type": "code",
   "execution_count": null,
   "id": "8cfebb3d",
   "metadata": {},
   "outputs": [],
   "source": [
    "# words "
   ]
  },
  {
   "cell_type": "code",
   "execution_count": null,
   "id": "72d58e92",
   "metadata": {},
   "outputs": [],
   "source": []
  },
  {
   "cell_type": "code",
   "execution_count": 4,
   "id": "548d33b7",
   "metadata": {},
   "outputs": [],
   "source": [
    "import spacy"
   ]
  },
  {
   "cell_type": "code",
   "execution_count": 5,
   "id": "ab24ecca",
   "metadata": {},
   "outputs": [],
   "source": [
    "# print the set of spaCy's default stop word \n",
    "nlp = spacy.load('en_core_web_sm')"
   ]
  },
  {
   "cell_type": "code",
   "execution_count": null,
   "id": "76a38ff6",
   "metadata": {},
   "outputs": [],
   "source": []
  },
  {
   "cell_type": "code",
   "execution_count": 3,
   "id": "75091021",
   "metadata": {},
   "outputs": [
    {
     "name": "stdout",
     "output_type": "stream",
     "text": [
      "{'it', 'get', 'you', 'themselves', 'yourselves', '’ll', 'whereby', 'should', 'one', 'n’t', 'toward', 'seeming', 'say', 'i', 'beside', 'and', 'always', 'anyway', 'everything', 'with', 'unless', 'across', 'been', 'before', 'so', 'various', 'above', 'noone', 'latter', 'anywhere', 'ca', 'he', 'here', 'between', 'wherein', 'latterly', 'just', 'of', \"n't\", 'next', 'thereupon', 'twenty', 'six', 'move', 'much', '’re', 'thereby', 'most', 'take', 'often', 'after', 'done', 'whereas', 'their', 'seem', 'this', 'there', '‘d', 'upon', 'serious', 'back', 'due', 'amount', 'less', 'about', 'twelve', 'yours', 'show', 'third', 'somewhere', \"'ve\", 'full', 'was', 'off', '‘ll', 'she', 'where', 'we', 'hereupon', 'herself', 'nowhere', 'being', 'keep', 'had', 'be', 'though', \"'re\", 'until', 'which', 'moreover', 'up', 'none', '‘s', 'per', 'how', 'except', 'in', 'must', 'its', 'since', 'neither', 'can', 'whom', 'n‘t', 'else', 'only', 'nine', 'every', 'us', 'are', 'anyhow', 'perhaps', 'below', 'name', 'few', '‘re', 'that', 'an', 'four', 'everywhere', 'herein', '’d', 'did', 'thru', '‘ve', 'ten', 'into', 'nor', 'myself', 'very', 'is', 'bottom', 'do', 'indeed', 'seems', 'around', 'other', 'becomes', 'otherwise', 'therein', 'seemed', 'has', 'during', 'would', 'enough', 'everyone', 'himself', 'please', 'am', 'call', 'least', 'nobody', 'really', 'anyone', 'more', 'either', 'own', '’s', 'former', 'using', 'no', 'the', 'became', 'sometimes', 'doing', 'under', 'what', 'many', 'becoming', 'for', 'ourselves', 'two', 'although', 'namely', \"'ll\", 'whole', 'beforehand', 'rather', 'first', 'without', 'once', 'while', 'last', 'become', 'eleven', 'see', 'therefore', 'something', 'never', 'itself', '’m', 'elsewhere', 'someone', 'nothing', 'whether', 'out', 'a', 'however', 'part', 'at', 'go', 'me', 'than', 'eight', 'by', 'thus', 'nevertheless', 'top', 'formerly', 'besides', 'could', 'also', 'make', 'used', 'quite', 'beyond', 'each', 'again', 'because', 'others', 'meanwhile', 're', 'may', 'any', 'your', 'made', 'now', 'even', 'her', 'might', 'among', '’ve', 'whose', 'then', 'whoever', 'towards', 'does', 'were', 'my', 'to', 'several', 'against', 'as', 'another', 'forty', 'whither', 'alone', 'sometime', 'already', 'him', 'thereafter', 'ever', 'down', 'cannot', 'front', 'hereby', 'together', 'whereupon', 'all', 'not', 'yourself', 'give', \"'s\", 'these', 'whatever', 'them', 'almost', 'those', 'our', 'both', 'sixty', '‘m', 'hundred', 'who', 'afterwards', 'but', 'from', 'wherever', 'too', 'some', 'fifteen', 'throughout', 'along', 'whenever', \"'m\", 'yet', 'mostly', 'amongst', 'anything', 'regarding', 'hence', 'onto', 'put', 'why', 'hers', 'well', 'five', 'on', 'fifty', 'his', 'ours', 'over', 'whereafter', 'have', 'will', 'when', 'thence', 'mine', 'empty', 'further', 'they', 'through', 'whence', 'via', 'within', 'behind', 'three', 'if', 'same', 'still', 'or', 'hereafter', 'side', 'such', 'somehow', \"'d\"}\n"
     ]
    }
   ],
   "source": [
    "print(nlp.Defaults.stop_words)"
   ]
  },
  {
   "cell_type": "code",
   "execution_count": 4,
   "id": "6917e967",
   "metadata": {},
   "outputs": [
    {
     "data": {
      "text/plain": [
       "326"
      ]
     },
     "execution_count": 4,
     "metadata": {},
     "output_type": "execute_result"
    }
   ],
   "source": [
    "len(nlp.Defaults.stop_words)"
   ]
  },
  {
   "cell_type": "code",
   "execution_count": null,
   "id": "67feadf9",
   "metadata": {},
   "outputs": [],
   "source": []
  },
  {
   "cell_type": "code",
   "execution_count": null,
   "id": "688b559f",
   "metadata": {},
   "outputs": [],
   "source": [
    "## To see if a word is a stop word "
   ]
  },
  {
   "cell_type": "code",
   "execution_count": 5,
   "id": "1296d4f0",
   "metadata": {},
   "outputs": [
    {
     "data": {
      "text/plain": [
       "True"
      ]
     },
     "execution_count": 5,
     "metadata": {},
     "output_type": "execute_result"
    }
   ],
   "source": [
    "nlp.vocab['myself'].is_stop"
   ]
  },
  {
   "cell_type": "code",
   "execution_count": 6,
   "id": "ffba6b12",
   "metadata": {},
   "outputs": [
    {
     "data": {
      "text/plain": [
       "True"
      ]
     },
     "execution_count": 6,
     "metadata": {},
     "output_type": "execute_result"
    }
   ],
   "source": [
    "nlp.vocab['where'].is_stop"
   ]
  },
  {
   "cell_type": "code",
   "execution_count": 7,
   "id": "88c4eb58",
   "metadata": {},
   "outputs": [
    {
     "data": {
      "text/plain": [
       "False"
      ]
     },
     "execution_count": 7,
     "metadata": {},
     "output_type": "execute_result"
    }
   ],
   "source": [
    "nlp.vocab['Python'].is_stop"
   ]
  },
  {
   "cell_type": "code",
   "execution_count": 8,
   "id": "c2e23db5",
   "metadata": {},
   "outputs": [
    {
     "data": {
      "text/plain": [
       "False"
      ]
     },
     "execution_count": 8,
     "metadata": {},
     "output_type": "execute_result"
    }
   ],
   "source": [
    "nlp.vocab['btw'].is_stop"
   ]
  },
  {
   "cell_type": "code",
   "execution_count": 11,
   "id": "66cbfe29",
   "metadata": {},
   "outputs": [],
   "source": [
    "# To add a stop word\n",
    "\n",
    "# Add the word to the set of stop words .use lowercase!\n",
    "\n",
    "nlp.Defaults.stop_words.add('btw')"
   ]
  },
  {
   "cell_type": "code",
   "execution_count": 12,
   "id": "dcaeb42c",
   "metadata": {},
   "outputs": [],
   "source": [
    "nlp.vocab['btw'].is_stop = True "
   ]
  },
  {
   "cell_type": "code",
   "execution_count": 13,
   "id": "7965d160",
   "metadata": {},
   "outputs": [
    {
     "data": {
      "text/plain": [
       "327"
      ]
     },
     "execution_count": 13,
     "metadata": {},
     "output_type": "execute_result"
    }
   ],
   "source": [
    "len(nlp.Defaults.stop_words)"
   ]
  },
  {
   "cell_type": "code",
   "execution_count": 14,
   "id": "01182aaf",
   "metadata": {},
   "outputs": [
    {
     "data": {
      "text/plain": [
       "True"
      ]
     },
     "execution_count": 14,
     "metadata": {},
     "output_type": "execute_result"
    }
   ],
   "source": [
    "nlp.vocab['btw'].is_stop"
   ]
  },
  {
   "cell_type": "code",
   "execution_count": null,
   "id": "026be0e9",
   "metadata": {},
   "outputs": [],
   "source": []
  },
  {
   "cell_type": "code",
   "execution_count": 21,
   "id": "1328a757",
   "metadata": {},
   "outputs": [],
   "source": [
    "# To Remove a stop words "
   ]
  },
  {
   "cell_type": "code",
   "execution_count": 15,
   "id": "bb15a239",
   "metadata": {},
   "outputs": [],
   "source": [
    "# REMOVE THE WORDS FROM THE SET OF STOP WORDS"
   ]
  },
  {
   "cell_type": "code",
   "execution_count": 16,
   "id": "da494400",
   "metadata": {},
   "outputs": [],
   "source": [
    "\n",
    "nlp.Defaults.stop_words.remove('beyond')"
   ]
  },
  {
   "cell_type": "code",
   "execution_count": 17,
   "id": "a77c1e62",
   "metadata": {},
   "outputs": [],
   "source": [
    "nlp.vocab['beyond'].is_stop =False "
   ]
  },
  {
   "cell_type": "code",
   "execution_count": 19,
   "id": "83d763b0",
   "metadata": {},
   "outputs": [
    {
     "data": {
      "text/plain": [
       "326"
      ]
     },
     "execution_count": 19,
     "metadata": {},
     "output_type": "execute_result"
    }
   ],
   "source": [
    "len(nlp.Defaults.stop_words)"
   ]
  },
  {
   "cell_type": "code",
   "execution_count": 20,
   "id": "d269d374",
   "metadata": {},
   "outputs": [
    {
     "data": {
      "text/plain": [
       "False"
      ]
     },
     "execution_count": 20,
     "metadata": {},
     "output_type": "execute_result"
    }
   ],
   "source": [
    "nlp.vocab['beyond'].is_stop"
   ]
  },
  {
   "cell_type": "code",
   "execution_count": null,
   "id": "823b0435",
   "metadata": {},
   "outputs": [],
   "source": []
  },
  {
   "cell_type": "code",
   "execution_count": null,
   "id": "70326bcf",
   "metadata": {},
   "outputs": [],
   "source": []
  },
  {
   "cell_type": "code",
   "execution_count": null,
   "id": "df4d17dd",
   "metadata": {},
   "outputs": [],
   "source": []
  },
  {
   "cell_type": "code",
   "execution_count": 1,
   "id": "78154523",
   "metadata": {},
   "outputs": [],
   "source": [
    "import spacy"
   ]
  },
  {
   "cell_type": "code",
   "execution_count": 2,
   "id": "dab0d7d5",
   "metadata": {},
   "outputs": [],
   "source": [
    "nlp = spacy.load('en_core_web_sm')"
   ]
  },
  {
   "cell_type": "code",
   "execution_count": 6,
   "id": "1b22ad04",
   "metadata": {},
   "outputs": [
    {
     "name": "stdout",
     "output_type": "stream",
     "text": [
      "{'down', 'we', 'were', 'whereafter', 'six', 'empty', 'someone', 'might', 'myself', 'bottom', 'full', 'only', 'anyway', 'everything', \"'re\", 'becoming', '‘ve', 'by', 'thence', 'no', 'where', 'he', 'towards', 'against', 'has', 'doing', 'many', 'everyone', 'its', 'seem', 'whom', 'mine', 'that', 'never', 'except', 'amongst', 'are', 'three', 'as', 'how', 'latterly', 'been', 'do', 'had', 'somewhere', 'what', 'quite', 'hers', 'eight', 'than', 'all', 'once', 'few', 'namely', \"'m\", 'thus', 'hereby', '‘ll', 'say', 'whole', 'she', 'though', 'via', 'was', 'will', 'because', 'please', '‘re', 'using', 'meanwhile', 'otherwise', 'seems', 'whose', 'noone', 'off', 'fifteen', 'therein', 'even', 'move', 'twenty', 'almost', 'see', '‘m', 'none', 'not', 'yourselves', 'something', \"n't\", 'over', 'still', 'him', 'be', 'did', 'hereafter', \"'ve\", 'indeed', 'while', 'every', 'forty', 'although', 'becomes', 'then', 'nowhere', 'done', 'for', 'must', 'you', 'during', 'thereupon', 'part', 'anyhow', 'third', 'wherein', 'beforehand', 'the', '’d', 'top', 'next', 'nine', 'name', 'thru', 'if', 'with', 'least', 'alone', 'back', 'themselves', 'various', 'show', 'however', 'to', 'always', 'several', 'often', 'thereby', 'n’t', 'whatever', 'who', 'else', 'of', 'me', 'just', 'why', 'besides', 'moreover', 'give', 'somehow', \"'s\", 'should', 'whether', 'some', 'am', 'could', 'us', 'also', 'on', 'again', 'would', 'our', 'can', 'since', 'become', 'everywhere', 'in', 'an', 'sometime', 'yet', 'perhaps', \"'ll\", 'wherever', '’ll', 'last', 'became', 'made', 'their', 'nor', 'them', 'one', 'get', 'seemed', 'seeming', 'twelve', 'either', 'whence', 'ourselves', 'does', 'sixty', 'whoever', 'neither', 'very', 'take', 'yours', 'my', 'other', 'thereafter', 'when', 'among', 'himself', '’s', 'may', 'others', 'under', 'each', 'whereby', 'former', 'together', 'whither', 'already', 'regarding', 'throughout', 'sometimes', 'anything', 'i', 'ever', 'behind', 'hundred', 'those', 'fifty', 'nobody', 'hence', 'yourself', 'due', 'enough', 'five', 'until', 'whereas', 'along', 'really', '‘d', 'toward', 'through', 'and', 'make', '’re', 'up', 'nothing', 'nevertheless', 'call', 'whenever', 'being', 'less', 'mostly', 'from', 'so', 'about', 'upon', 'or', 'anyone', 'cannot', 'his', 'per', 'such', 'is', 'these', 'beyond', 'but', 'herein', 'this', 'out', 'unless', 'above', 'within', 'onto', 'ten', 'there', 'hereupon', 'same', 'further', 'now', 'put', 'amount', '’ve', 'have', 'rather', 'used', 'much', 'first', 'they', 'herself', 'whereupon', 'a', 'therefore', 'at', 'keep', 'another', 'two', 'any', 'side', 'without', 'afterwards', 'formerly', 'into', 'four', \"'d\", 'after', 'serious', '’m', 'front', 'own', 'too', 'more', 'anywhere', 'itself', 'elsewhere', 'your', 'which', '‘s', 'around', 'across', 'it', 'eleven', 'beside', 'well', 'below', 'latter', 'her', 'before', 'n‘t', 'ca', 'both', 'most', 'ours', 'between', 'here', 'go', 're'}\n"
     ]
    }
   ],
   "source": [
    "print(nlp.Defaults.stop_words)"
   ]
  },
  {
   "cell_type": "code",
   "execution_count": 8,
   "id": "21324f93",
   "metadata": {},
   "outputs": [
    {
     "data": {
      "text/plain": [
       "326"
      ]
     },
     "execution_count": 8,
     "metadata": {},
     "output_type": "execute_result"
    }
   ],
   "source": [
    "len(nlp.Defaults.stop_words)"
   ]
  },
  {
   "cell_type": "code",
   "execution_count": 9,
   "id": "7d71485c",
   "metadata": {},
   "outputs": [
    {
     "data": {
      "text/plain": [
       "True"
      ]
     },
     "execution_count": 9,
     "metadata": {},
     "output_type": "execute_result"
    }
   ],
   "source": [
    "nlp.vocab['six'].is_stop"
   ]
  },
  {
   "cell_type": "code",
   "execution_count": 10,
   "id": "6d874833",
   "metadata": {},
   "outputs": [],
   "source": [
    "nlp.Defaults.stop_words.remove('six')"
   ]
  },
  {
   "cell_type": "code",
   "execution_count": 13,
   "id": "48572890",
   "metadata": {},
   "outputs": [],
   "source": [
    "nlp.vocab['six'].is_stop =False"
   ]
  },
  {
   "cell_type": "code",
   "execution_count": 14,
   "id": "65cf626f",
   "metadata": {},
   "outputs": [
    {
     "data": {
      "text/plain": [
       "False"
      ]
     },
     "execution_count": 14,
     "metadata": {},
     "output_type": "execute_result"
    }
   ],
   "source": [
    "nlp.vocab['six'].is_stop"
   ]
  },
  {
   "cell_type": "code",
   "execution_count": 15,
   "id": "badb8ecc",
   "metadata": {},
   "outputs": [
    {
     "data": {
      "text/plain": [
       "325"
      ]
     },
     "execution_count": 15,
     "metadata": {},
     "output_type": "execute_result"
    }
   ],
   "source": [
    "len(nlp.Defaults.stop_words)"
   ]
  },
  {
   "cell_type": "code",
   "execution_count": null,
   "id": "9906b7cd",
   "metadata": {},
   "outputs": [],
   "source": []
  }
 ],
 "metadata": {
  "kernelspec": {
   "display_name": "Python 3 (ipykernel)",
   "language": "python",
   "name": "python3"
  },
  "language_info": {
   "codemirror_mode": {
    "name": "ipython",
    "version": 3
   },
   "file_extension": ".py",
   "mimetype": "text/x-python",
   "name": "python",
   "nbconvert_exporter": "python",
   "pygments_lexer": "ipython3",
   "version": "3.11.5"
  }
 },
 "nbformat": 4,
 "nbformat_minor": 5
}
