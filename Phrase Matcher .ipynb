{
 "cells": [
  {
   "cell_type": "code",
   "execution_count": 88,
   "id": "19acc759",
   "metadata": {},
   "outputs": [],
   "source": [
    "from spacy.matcher import Matcher\n",
    "from spacy.matcher import PhraseMatcher\n",
    "import spacy"
   ]
  },
  {
   "cell_type": "code",
   "execution_count": 89,
   "id": "01c20fd9",
   "metadata": {},
   "outputs": [],
   "source": [
    "nlp = spacy.load('en_core_web_sm')"
   ]
  },
  {
   "cell_type": "code",
   "execution_count": 90,
   "id": "28eb52da",
   "metadata": {},
   "outputs": [],
   "source": [
    "# Create a PhrasheMatcher object "
   ]
  },
  {
   "cell_type": "code",
   "execution_count": 91,
   "id": "6158d731",
   "metadata": {},
   "outputs": [],
   "source": [
    "matcher = Matcher(nlp.vocab) "
   ]
  },
  {
   "cell_type": "code",
   "execution_count": 92,
   "id": "aeb14dc8",
   "metadata": {},
   "outputs": [],
   "source": [
    "# Define a pattern to match adjective followed by nouns \n",
    "\n",
    "pattern = [{\"POS\":\"ADJ\"},{\"POS\":\"NOUN\"}]\n",
    "matcher.add(\"ADJ_NOUN_PATTERN\",[pattern])"
   ]
  },
  {
   "cell_type": "code",
   "execution_count": 93,
   "id": "1682af8a",
   "metadata": {},
   "outputs": [],
   "source": [
    "# Apply the matcher to the text\n",
    "\n",
    "doc = nlp(\"i saw a beautiful cat and a happy dog.\")\n",
    "\n",
    "matches = matcher(doc)"
   ]
  },
  {
   "cell_type": "code",
   "execution_count": 94,
   "id": "1354dbb3",
   "metadata": {},
   "outputs": [
    {
     "data": {
      "text/plain": [
       "[(5488211386492616699, 3, 5), (5488211386492616699, 7, 9)]"
      ]
     },
     "execution_count": 94,
     "metadata": {},
     "output_type": "execute_result"
    }
   ],
   "source": [
    "matches"
   ]
  },
  {
   "cell_type": "code",
   "execution_count": 95,
   "id": "e2859fba",
   "metadata": {},
   "outputs": [],
   "source": [
    "pattern1= [{\"LOWER\":\"machine\"},{\"LOWER\":\"learning\"}]\n",
    "patterm2= [{\"LOWER\":\"artificial\"},{\"LOWER\":\"intelligence\"}] \n",
    "matcher.add('DS Term1',[pattern1,pattern2])"
   ]
  },
  {
   "cell_type": "code",
   "execution_count": 96,
   "id": "a548ecba",
   "metadata": {},
   "outputs": [],
   "source": [
    "doc2 = nlp(\"I will learn machine learning and artificial intelligence\")\n",
    "found_matches = matcher(doc2)"
   ]
  },
  {
   "cell_type": "code",
   "execution_count": 97,
   "id": "5a4fcf0e",
   "metadata": {},
   "outputs": [
    {
     "data": {
      "text/plain": [
       "[(16328987176763091921, 3, 5),\n",
       " (5488211386492616699, 6, 8),\n",
       " (16328987176763091921, 6, 8)]"
      ]
     },
     "execution_count": 97,
     "metadata": {},
     "output_type": "execute_result"
    }
   ],
   "source": [
    "found_matches"
   ]
  },
  {
   "cell_type": "code",
   "execution_count": null,
   "id": "804fc17f",
   "metadata": {},
   "outputs": [],
   "source": []
  },
  {
   "cell_type": "code",
   "execution_count": 98,
   "id": "644fe712",
   "metadata": {},
   "outputs": [],
   "source": [
    "# Create a Phrase Matcher "
   ]
  },
  {
   "cell_type": "code",
   "execution_count": 99,
   "id": "cc6731b4",
   "metadata": {},
   "outputs": [],
   "source": [
    "phrase_matcher = PhraseMatcher(nlp.vocab)"
   ]
  },
  {
   "cell_type": "code",
   "execution_count": 103,
   "id": "443f4ccf",
   "metadata": {},
   "outputs": [],
   "source": [
    "# Define  phrase to match \n",
    "\n",
    "phrase = [\"beautiful cat\",\"happy dog\"]\n",
    "patterns = [nlp(text) for text in phrase]\n",
    "phrase_matcher.add(\"ANIMAL_PATTERN\",patterns)"
   ]
  },
  {
   "cell_type": "code",
   "execution_count": 115,
   "id": "29b7d2d5",
   "metadata": {},
   "outputs": [],
   "source": [
    "doc3 = nlp(\"I saw a beautiful cat and a happy dog.\")\n",
    "matches = phrase_matcher(doc3)"
   ]
  },
  {
   "cell_type": "code",
   "execution_count": 116,
   "id": "1c97b3a8",
   "metadata": {},
   "outputs": [
    {
     "data": {
      "text/plain": [
       "[(18232475512666784510, 3, 5), (18232475512666784510, 7, 9)]"
      ]
     },
     "execution_count": 116,
     "metadata": {},
     "output_type": "execute_result"
    }
   ],
   "source": [
    "matches"
   ]
  },
  {
   "cell_type": "code",
   "execution_count": null,
   "id": "e5a1a313",
   "metadata": {},
   "outputs": [],
   "source": []
  }
 ],
 "metadata": {
  "kernelspec": {
   "display_name": "Python 3 (ipykernel)",
   "language": "python",
   "name": "python3"
  },
  "language_info": {
   "codemirror_mode": {
    "name": "ipython",
    "version": 3
   },
   "file_extension": ".py",
   "mimetype": "text/x-python",
   "name": "python",
   "nbconvert_exporter": "python",
   "pygments_lexer": "ipython3",
   "version": "3.11.5"
  }
 },
 "nbformat": 4,
 "nbformat_minor": 5
}
