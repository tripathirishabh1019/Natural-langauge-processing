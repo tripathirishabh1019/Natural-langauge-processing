{
 "cells": [
  {
   "cell_type": "code",
   "execution_count": 1,
   "id": "cd484b86",
   "metadata": {},
   "outputs": [],
   "source": [
    "# Lemmatiation"
   ]
  },
  {
   "cell_type": "code",
   "execution_count": 9,
   "id": "c74e4223",
   "metadata": {},
   "outputs": [],
   "source": [
    "import spacy"
   ]
  },
  {
   "cell_type": "code",
   "execution_count": 10,
   "id": "cca62ff9",
   "metadata": {},
   "outputs": [],
   "source": [
    "nlp = spacy.load('en_core_web_sm')"
   ]
  },
  {
   "cell_type": "code",
   "execution_count": 11,
   "id": "aadb0e08",
   "metadata": {},
   "outputs": [],
   "source": [
    "doc1 = nlp(u\"I am a runner running in race because in a race because I love to run since I ran today\")"
   ]
  },
  {
   "cell_type": "code",
   "execution_count": 13,
   "id": "78608a3e",
   "metadata": {},
   "outputs": [
    {
     "name": "stdout",
     "output_type": "stream",
     "text": [
      "I \t PRON \t 4690420944186131903 \t I\n",
      "am \t AUX \t 10382539506755952630 \t be\n",
      "a \t DET \t 11901859001352538922 \t a\n",
      "runner \t NOUN \t 12640964157389618806 \t runner\n",
      "running \t VERB \t 12767647472892411841 \t run\n",
      "in \t ADP \t 3002984154512732771 \t in\n",
      "race \t NOUN \t 8048469955494714898 \t race\n",
      "because \t SCONJ \t 16950148841647037698 \t because\n",
      "in \t ADP \t 3002984154512732771 \t in\n",
      "a \t DET \t 11901859001352538922 \t a\n",
      "race \t NOUN \t 8048469955494714898 \t race\n",
      "because \t SCONJ \t 16950148841647037698 \t because\n",
      "I \t PRON \t 4690420944186131903 \t I\n",
      "love \t VERB \t 3702023516439754181 \t love\n",
      "to \t PART \t 3791531372978436496 \t to\n",
      "run \t VERB \t 12767647472892411841 \t run\n",
      "since \t SCONJ \t 10066841407251338481 \t since\n",
      "I \t PRON \t 4690420944186131903 \t I\n",
      "ran \t VERB \t 12767647472892411841 \t run\n",
      "today \t NOUN \t 11042482332948150395 \t today\n"
     ]
    }
   ],
   "source": [
    "for token in doc1:\n",
    "    print(token.text, '\\t', token.pos_, '\\t',token.lemma,'\\t',token.lemma_)"
   ]
  },
  {
   "cell_type": "code",
   "execution_count": null,
   "id": "00ea187e",
   "metadata": {},
   "outputs": [],
   "source": []
  },
  {
   "cell_type": "code",
   "execution_count": 14,
   "id": "8b8b47e5",
   "metadata": {},
   "outputs": [],
   "source": [
    "## Function to display lemmas\n",
    "\n",
    "def show_lemmas(text):\n",
    "    for token in text:\n",
    "        print(f'{token.text:{128}}{token.pos_:{6}}{token.lemma:{22}}{token.lemma_}')"
   ]
  },
  {
   "cell_type": "code",
   "execution_count": 16,
   "id": "dfa1a326",
   "metadata": {},
   "outputs": [],
   "source": [
    "doc2 = nlp(u'I saw eighteen nice today') "
   ]
  },
  {
   "cell_type": "code",
   "execution_count": 18,
   "id": "7abbba22",
   "metadata": {},
   "outputs": [
    {
     "name": "stdout",
     "output_type": "stream",
     "text": [
      "I                                                                                                                               PRON     4690420944186131903I\n",
      "saw                                                                                                                             VERB    11925638236994514241see\n",
      "eighteen                                                                                                                        NUM      9609336664675087640eighteen\n",
      "nice                                                                                                                            ADJ     14121509715367036122nice\n",
      "today                                                                                                                           NOUN    11042482332948150395today\n"
     ]
    }
   ],
   "source": [
    "show_lemmas(doc2)"
   ]
  },
  {
   "cell_type": "code",
   "execution_count": 25,
   "id": "af2e0e46",
   "metadata": {},
   "outputs": [],
   "source": [
    "doc3 = nlp(u\" I am meeting him tommorw at the meeting\")"
   ]
  },
  {
   "cell_type": "code",
   "execution_count": 26,
   "id": "ff50aaec",
   "metadata": {},
   "outputs": [
    {
     "name": "stdout",
     "output_type": "stream",
     "text": [
      "                                                                                                                                SPACE    8532415787641010193 \n",
      "I                                                                                                                               PRON     4690420944186131903I\n",
      "am                                                                                                                              AUX     10382539506755952630be\n",
      "meeting                                                                                                                         VERB     6880656908171229526meet\n",
      "him                                                                                                                             PRON     1655312771067108281he\n",
      "tommorw                                                                                                                         ADV      9245015496811975874tommorw\n",
      "at                                                                                                                              ADP     11667289587015813222at\n",
      "the                                                                                                                             DET      7425985699627899538the\n",
      "meeting                                                                                                                         NOUN    14798207169164081740meeting\n"
     ]
    }
   ],
   "source": [
    "show_lemmas(doc3)"
   ]
  },
  {
   "cell_type": "code",
   "execution_count": 22,
   "id": "e1a70b59",
   "metadata": {},
   "outputs": [],
   "source": [
    "doc4 = nlp(u\"That's an enormous automobile\")"
   ]
  },
  {
   "cell_type": "code",
   "execution_count": 23,
   "id": "fce34899",
   "metadata": {},
   "outputs": [
    {
     "name": "stdout",
     "output_type": "stream",
     "text": [
      "That                                                                                                                            PRON     4380130941430378203that\n",
      "'s                                                                                                                              AUX     10382539506755952630be\n",
      "an                                                                                                                              DET     15099054000809333061an\n",
      "enormous                                                                                                                        ADJ     17917224542039855524enormous\n",
      "automobile                                                                                                                      NOUN     7211811266693931283automobile\n"
     ]
    }
   ],
   "source": [
    "show_lemmas(doc4)"
   ]
  },
  {
   "cell_type": "code",
   "execution_count": null,
   "id": "91fef044",
   "metadata": {},
   "outputs": [],
   "source": []
  },
  {
   "cell_type": "code",
   "execution_count": null,
   "id": "876201ee",
   "metadata": {},
   "outputs": [],
   "source": []
  },
  {
   "cell_type": "code",
   "execution_count": null,
   "id": "dcb3233c",
   "metadata": {},
   "outputs": [],
   "source": [
    " "
   ]
  }
 ],
 "metadata": {
  "kernelspec": {
   "display_name": "Python 3 (ipykernel)",
   "language": "python",
   "name": "python3"
  },
  "language_info": {
   "codemirror_mode": {
    "name": "ipython",
    "version": 3
   },
   "file_extension": ".py",
   "mimetype": "text/x-python",
   "name": "python",
   "nbconvert_exporter": "python",
   "pygments_lexer": "ipython3",
   "version": "3.11.5"
  }
 },
 "nbformat": 4,
 "nbformat_minor": 5
}
