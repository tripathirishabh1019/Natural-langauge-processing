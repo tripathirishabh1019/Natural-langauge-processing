{
 "cells": [
  {
   "cell_type": "markdown",
   "id": "12a7c933",
   "metadata": {},
   "source": [
    "# Phrase matching"
   ]
  },
  {
   "cell_type": "code",
   "execution_count": null,
   "id": "3ddb0e8b",
   "metadata": {},
   "outputs": [],
   "source": []
  },
  {
   "cell_type": "code",
   "execution_count": 2,
   "id": "20f40a7c",
   "metadata": {},
   "outputs": [],
   "source": [
    "# Perform standards import "
   ]
  },
  {
   "cell_type": "code",
   "execution_count": 3,
   "id": "b8577652",
   "metadata": {},
   "outputs": [],
   "source": [
    "import spacy"
   ]
  },
  {
   "cell_type": "code",
   "execution_count": 4,
   "id": "4134f05d",
   "metadata": {},
   "outputs": [],
   "source": [
    "nlp = spacy.load('en_core_web_sm')"
   ]
  },
  {
   "cell_type": "code",
   "execution_count": 5,
   "id": "731c328a",
   "metadata": {},
   "outputs": [],
   "source": [
    "# Import the Matcher library"
   ]
  },
  {
   "cell_type": "code",
   "execution_count": 6,
   "id": "e1383cb2",
   "metadata": {},
   "outputs": [],
   "source": [
    "from spacy.matcher import Matcher"
   ]
  },
  {
   "cell_type": "code",
   "execution_count": 7,
   "id": "443b707a",
   "metadata": {},
   "outputs": [],
   "source": [
    "matcher = Matcher(nlp.vocab)"
   ]
  },
  {
   "cell_type": "code",
   "execution_count": 8,
   "id": "1c59652d",
   "metadata": {},
   "outputs": [],
   "source": [
    "pattern1 = [{\"LOWER\":'solarpower'}]\n",
    "pattern2 = [{\"LOWER\":'solar'},{'LOWER':'power'}]\n",
    "pattern3 = [{\"LOWER\":'solar'},{'IS_PUNCT':True},{'LOWER':'power'}]"
   ]
  },
  {
   "cell_type": "code",
   "execution_count": 9,
   "id": "9a832dca",
   "metadata": {},
   "outputs": [],
   "source": [
    "matcher.add('Solarpower',[pattern1,pattern2,pattern3,])"
   ]
  },
  {
   "cell_type": "code",
   "execution_count": 10,
   "id": "8ef1bf44",
   "metadata": {},
   "outputs": [],
   "source": [
    "doc = nlp(u'The Solar Power industry continues to grow a solarpower increase. Solar-power cars are giving popularity .')"
   ]
  },
  {
   "cell_type": "code",
   "execution_count": 11,
   "id": "babd3817",
   "metadata": {},
   "outputs": [],
   "source": [
    "found_matches = matcher(doc)"
   ]
  },
  {
   "cell_type": "code",
   "execution_count": 12,
   "id": "37270c95",
   "metadata": {},
   "outputs": [
    {
     "name": "stdout",
     "output_type": "stream",
     "text": [
      "[(6544436658971563323, 1, 3), (6544436658971563323, 8, 9), (6544436658971563323, 11, 14)]\n"
     ]
    }
   ],
   "source": [
    "print(found_matches)"
   ]
  },
  {
   "cell_type": "code",
   "execution_count": null,
   "id": "beb17ad8",
   "metadata": {},
   "outputs": [],
   "source": []
  },
  {
   "cell_type": "code",
   "execution_count": 1,
   "id": "f9494307",
   "metadata": {},
   "outputs": [
    {
     "ename": "NameError",
     "evalue": "name 'matcher' is not defined",
     "output_type": "error",
     "traceback": [
      "\u001b[1;31m---------------------------------------------------------------------------\u001b[0m",
      "\u001b[1;31mNameError\u001b[0m                                 Traceback (most recent call last)",
      "Cell \u001b[1;32mIn[1], line 1\u001b[0m\n\u001b[1;32m----> 1\u001b[0m matcher\u001b[38;5;241m.\u001b[39mremove(\u001b[38;5;124m\"\u001b[39m\u001b[38;5;124mSolarPower\u001b[39m\u001b[38;5;124m\"\u001b[39m)\n",
      "\u001b[1;31mNameError\u001b[0m: name 'matcher' is not defined"
     ]
    }
   ],
   "source": [
    "matcher.remove(\"SolarPower\")"
   ]
  },
  {
   "cell_type": "code",
   "execution_count": null,
   "id": "2beb0089",
   "metadata": {},
   "outputs": [],
   "source": [
    "pattern1 = [{'LOWER':'solarpower'}]\n",
    "pattern2 = [{'LOWER':'solar'},{'IS_PUNCT': True,'OP':'*'},{'LEMMA':'power'}]"
   ]
  },
  {
   "cell_type": "code",
   "execution_count": null,
   "id": "76a214c5",
   "metadata": {},
   "outputs": [],
   "source": [
    "#ADD the new set of patterns to the \"SolarPower\" matcher:\n",
    "\n",
    "matcher.add(\"SOLARPOWER\",[pattern1,pattern2])"
   ]
  },
  {
   "cell_type": "code",
   "execution_count": null,
   "id": "674cbf78",
   "metadata": {},
   "outputs": [],
   "source": [
    "doc = nlp(u'The Solar Power industry continues to grow a solarpower increase. Solar-power cars are giving popularity .')\n",
    "found_matche = matcher(doc)"
   ]
  },
  {
   "cell_type": "code",
   "execution_count": null,
   "id": "e5c092b6",
   "metadata": {},
   "outputs": [],
   "source": [
    "found_matche"
   ]
  },
  {
   "cell_type": "code",
   "execution_count": null,
   "id": "c09c220b",
   "metadata": {},
   "outputs": [],
   "source": [
    "# reomove the old pattern to avoid duplication\n",
    "\n",
    "matcher.remove(\"SolarPower\")"
   ]
  },
  {
   "cell_type": "code",
   "execution_count": null,
   "id": "719982b9",
   "metadata": {},
   "outputs": [],
   "source": [
    "matcher.add('SolarPower',[pattern1,pattern2])"
   ]
  },
  {
   "cell_type": "code",
   "execution_count": null,
   "id": "6cfb35eb",
   "metadata": {},
   "outputs": [],
   "source": [
    "doc2 = nlp(u'Solar--powered energy runs solar-powered cars.')"
   ]
  },
  {
   "cell_type": "code",
   "execution_count": null,
   "id": "1a2266df",
   "metadata": {},
   "outputs": [],
   "source": [
    "found_matches = matcher(doc2)"
   ]
  },
  {
   "cell_type": "code",
   "execution_count": null,
   "id": "8b016e09",
   "metadata": {},
   "outputs": [],
   "source": [
    "found_matches"
   ]
  },
  {
   "cell_type": "code",
   "execution_count": null,
   "id": "7ee50c6c",
   "metadata": {},
   "outputs": [],
   "source": []
  },
  {
   "cell_type": "code",
   "execution_count": null,
   "id": "d2ed3d5e",
   "metadata": {},
   "outputs": [],
   "source": [
    "matcher = Matcher(nlp.vocab) "
   ]
  },
  {
   "cell_type": "code",
   "execution_count": 16,
   "id": "a0525efa",
   "metadata": {},
   "outputs": [],
   "source": [
    "# Define a pattern to match adjective followed by nouns \n",
    "\n",
    "pattern = [{\"POS\":\"ADJ\"},{\"POS\":\"NOUN\"}]\n",
    "matcher.add(\"ADJ_NOUN_PATTERN\",[pattern])"
   ]
  },
  {
   "cell_type": "code",
   "execution_count": null,
   "id": "b09c4f61",
   "metadata": {},
   "outputs": [],
   "source": []
  },
  {
   "cell_type": "code",
   "execution_count": null,
   "id": "23926fa9",
   "metadata": {},
   "outputs": [],
   "source": []
  }
 ],
 "metadata": {
  "kernelspec": {
   "display_name": "Python 3 (ipykernel)",
   "language": "python",
   "name": "python3"
  },
  "language_info": {
   "codemirror_mode": {
    "name": "ipython",
    "version": 3
   },
   "file_extension": ".py",
   "mimetype": "text/x-python",
   "name": "python",
   "nbconvert_exporter": "python",
   "pygments_lexer": "ipython3",
   "version": "3.11.5"
  }
 },
 "nbformat": 4,
 "nbformat_minor": 5
}
